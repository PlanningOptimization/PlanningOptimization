{
 "cells": [
  {
   "cell_type": "code",
   "execution_count": 15,
   "metadata": {},
   "outputs": [],
   "source": [
    "import numpy as np\n",
    "import copy"
   ]
  },
  {
   "cell_type": "code",
   "execution_count": 16,
   "metadata": {},
   "outputs": [],
   "source": [
    "f = open(\"TestCase/10_10_2_4.txt\")\n",
    "fa = f.readlines()\n",
    "tmp = fa[0].split()\n",
    "N = int(tmp[0])\n",
    "D = int(tmp[1])\n",
    "a = int(tmp[2])\n",
    "b = int(tmp[3])\n",
    "day_off = np.zeros([N,D], dtype = int)\n",
    "for i in range(1,len(fa)) :\n",
    "    tmp = fa[i].split()\n",
    "    for j in range(len(tmp) - 1) :\n",
    "        m = int(tmp[j])\n",
    "        day_off[i-1,m-1] = 1"
   ]
  },
  {
   "cell_type": "code",
   "execution_count": 17,
   "metadata": {},
   "outputs": [],
   "source": [
    "def All_candidate (Schedule_yesterday , day_off) :\n",
    "    all_caldidate = []\n",
    "    for i in range(N) :\n",
    "        if Schedule_yesterday[i] < 4 and day_off[i] < 1 :\n",
    "            all_caldidate.append(i)\n",
    "    return all_caldidate\n"
   ]
  },
  {
   "cell_type": "code",
   "execution_count": 18,
   "metadata": {},
   "outputs": [],
   "source": [
    "def Try (k, sub_candidate_index, all_candidate, all_sub_candidate) :\n",
    "    size_sub = len(sub_candidate_index)\n",
    "    size_all = len(all_candidate)\n",
    "    for i in range(sub_candidate_index[k-1] + 1, size_all + size_sub - k ) :\n",
    "        sub_candidate_index[k] = i\n",
    "        if k == size_sub - 1 :\n",
    "            sub_candidate = []\n",
    "            for j in sub_candidate_index[1:size_sub] :\n",
    "                sub_candidate.append(all_candidate[j-1])\n",
    "            all_sub_candidate.append(sub_candidate)\n",
    "        else :\n",
    "            Try (k+1, sub_candidate_index, all_candidate, all_sub_candidate)\n",
    "        "
   ]
  },
  {
   "cell_type": "code",
   "execution_count": 19,
   "metadata": {},
   "outputs": [],
   "source": [
    "def generate_candidate (all_candidate) :\n",
    "    all_combination_4a = [] # Tap tat ca to hop 4*a cua all_candidate\n",
    "    b = [0] * (4*a + 1)\n",
    "    Try (1, b, all_candidate, all_combination_4a)\n",
    "    all_combination = []\n",
    "    for each_combination_4a in all_combination_4a :\n",
    "        all_combination_a = []\n",
    "        c = [0] * (a+1)\n",
    "        Try (1, c, each_combination_4a, all_combination_a)\n",
    "        for each_combination_a in all_combination_a :\n",
    "            tmp = []\n",
    "            tmp += each_combination_a\n",
    "            tmp += [j for j in each_combination_4a if j not in each_combination_a]\n",
    "            all_combination.append(tmp)\n",
    "    return all_combination\n"
   ]
  },
  {
   "cell_type": "code",
   "execution_count": 20,
   "metadata": {},
   "outputs": [],
   "source": [
    "Schedule = np.zeros([N,D+1], dtype=int)\n",
    "num_night = [0]*N\n",
    "min_num_night = 1000000\n",
    "num_night_to_now = [0] * N"
   ]
  },
  {
   "cell_type": "code",
   "execution_count": 21,
   "metadata": {},
   "outputs": [],
   "source": [
    "def update() :\n",
    "    global min_num_night\n",
    "    for i in range(N) :\n",
    "        num_night[i] = 0\n",
    "        for j in range(1,D+1) :\n",
    "            if Schedule[i,j] == 4 :\n",
    "                num_night[i] += 1\n",
    "    if min_num_night > max(num_night) :\n",
    "        min_num_night = max(num_night)\n",
    "        print(Schedule)\n",
    "        print(min_num_night)"
   ]
  },
  {
   "cell_type": "code",
   "execution_count": 22,
   "metadata": {},
   "outputs": [],
   "source": [
    "def check (k) :\n",
    "    global min_num_night\n",
    "    num_night_tmp = [0] *N\n",
    "    for i in range(N) :\n",
    "        for j in range(1,k+1) :\n",
    "            if Schedule[i,j] == 4 :\n",
    "                num_night_tmp[i] += 1\n",
    "    if max(num_night_tmp) >= min_num_night :\n",
    "        return False\n",
    "    else :\n",
    "        return True"
   ]
  },
  {
   "cell_type": "code",
   "execution_count": 23,
   "metadata": {},
   "outputs": [],
   "source": [
    "def up_to_now(k) :\n",
    "    global num_night_to_now\n",
    "    for i in range(N) :\n",
    "        num_night_to_now[i] = 0\n",
    "        for j in range(1,k+1) :\n",
    "            if Schedule[i,j] == 4 :\n",
    "                num_night_to_now[i] += 1"
   ]
  },
  {
   "cell_type": "code",
   "execution_count": 24,
   "metadata": {},
   "outputs": [],
   "source": [
    "def heuristic (candidate) :\n",
    "    global num_night_to_now\n",
    "    num_night_to_now_tmp = copy.deepcopy(num_night_to_now)\n",
    "    for i in candidate[0:a] :\n",
    "        num_night_to_now_tmp[i] += 1\n",
    "    # return max(num_night_to_now_tmp) - min(num_night_to_now_tmp)\n",
    "    num_night_to_now_tmp = np.array(num_night_to_now_tmp)\n",
    "    return np.std(num_night_to_now_tmp)"
   ]
  },
  {
   "cell_type": "code",
   "execution_count": 25,
   "metadata": {},
   "outputs": [],
   "source": [
    "stop = False\n",
    "lower_bound = 0\n",
    "if (a*D) % N == 0 :\n",
    "    lower_bound = int(a*D/ N)\n",
    "else :\n",
    "    lower_bound = int((a*D)/N) + 1"
   ]
  },
  {
   "cell_type": "code",
   "execution_count": 26,
   "metadata": {},
   "outputs": [],
   "source": [
    "def Try_main (k) :\n",
    "    global num_night_to_now\n",
    "    global stop\n",
    "    global lower_bound\n",
    "    if stop == True :\n",
    "        return\n",
    "    for i in range(N) :\n",
    "        Schedule[i,k] = 0\n",
    "    all_candidate = All_candidate(list(Schedule[:,k-1]), list(day_off[:,k-1])) \n",
    "    if len(all_candidate) < 4*a :\n",
    "        return \n",
    "    up_to_now(k-1)\n",
    "    all_combination = generate_candidate (all_candidate)\n",
    "    all_combination.sort(key=heuristic, reverse=False)\n",
    "    for combination in all_combination :\n",
    "        for i in range(a) :\n",
    "            Schedule[combination[i], k] = 4\n",
    "        for i in range(a,4*a) :\n",
    "            Schedule[combination[i], k] = 1\n",
    "        if k == D :\n",
    "            update()\n",
    "            if min_num_night == lower_bound :\n",
    "                stop = True\n",
    "                return\n",
    "        else :\n",
    "            if check(k) == True :\n",
    "                Try_main(k+1)"
   ]
  },
  {
   "cell_type": "code",
   "execution_count": 27,
   "metadata": {},
   "outputs": [
    {
     "name": "stdout",
     "output_type": "stream",
     "text": [
      "2\n"
     ]
    }
   ],
   "source": [
    "print(lower_bound)"
   ]
  },
  {
   "cell_type": "code",
   "execution_count": 28,
   "metadata": {},
   "outputs": [
    {
     "name": "stdout",
     "output_type": "stream",
     "text": [
      "[[0 4 0 1 1 1 1 4 0 4 0]\n",
      " [0 1 4 0 1 1 1 1 4 0 1]\n",
      " [0 1 1 4 0 1 4 0 1 1 1]\n",
      " [0 1 1 1 4 0 1 1 4 0 1]\n",
      " [0 1 1 1 1 4 0 4 0 4 0]\n",
      " [0 1 4 0 4 0 1 1 1 1 1]\n",
      " [0 4 0 1 1 1 1 1 1 1 4]\n",
      " [0 0 1 1 1 4 0 1 1 1 4]\n",
      " [0 1 1 1 1 1 4 0 1 1 1]\n",
      " [0 0 1 4 0 1 1 1 1 1 1]]\n",
      "3\n"
     ]
    },
    {
     "ename": "KeyboardInterrupt",
     "evalue": "",
     "output_type": "error",
     "traceback": [
      "\u001b[1;31m---------------------------------------------------------------------------\u001b[0m",
      "\u001b[1;31mKeyboardInterrupt\u001b[0m                         Traceback (most recent call last)",
      "\u001b[1;32mf:\\PlanningOptimization\\PlanningOptimization\\RosteringProblem_best-first_search.ipynb Cell 14'\u001b[0m in \u001b[0;36m<cell line: 1>\u001b[1;34m()\u001b[0m\n\u001b[1;32m----> <a href='vscode-notebook-cell:/f%3A/PlanningOptimization/PlanningOptimization/RosteringProblem_best-first_search.ipynb#ch0000013?line=0'>1</a>\u001b[0m Try_main(\u001b[39m1\u001b[39;49m)\n\u001b[0;32m      <a href='vscode-notebook-cell:/f%3A/PlanningOptimization/PlanningOptimization/RosteringProblem_best-first_search.ipynb#ch0000013?line=1'>2</a>\u001b[0m \u001b[39mprint\u001b[39m(min_num_night)\n",
      "\u001b[1;32mf:\\PlanningOptimization\\PlanningOptimization\\RosteringProblem_best-first_search.ipynb Cell 12'\u001b[0m in \u001b[0;36mTry_main\u001b[1;34m(k)\u001b[0m\n\u001b[0;32m     <a href='vscode-notebook-cell:/f%3A/PlanningOptimization/PlanningOptimization/RosteringProblem_best-first_search.ipynb#ch0000011?line=24'>25</a>\u001b[0m \u001b[39melse\u001b[39;00m :\n\u001b[0;32m     <a href='vscode-notebook-cell:/f%3A/PlanningOptimization/PlanningOptimization/RosteringProblem_best-first_search.ipynb#ch0000011?line=25'>26</a>\u001b[0m     \u001b[39mif\u001b[39;00m check(k) \u001b[39m==\u001b[39m \u001b[39mTrue\u001b[39;00m :\n\u001b[1;32m---> <a href='vscode-notebook-cell:/f%3A/PlanningOptimization/PlanningOptimization/RosteringProblem_best-first_search.ipynb#ch0000011?line=26'>27</a>\u001b[0m         Try_main(k\u001b[39m+\u001b[39;49m\u001b[39m1\u001b[39;49m)\n",
      "\u001b[1;32mf:\\PlanningOptimization\\PlanningOptimization\\RosteringProblem_best-first_search.ipynb Cell 12'\u001b[0m in \u001b[0;36mTry_main\u001b[1;34m(k)\u001b[0m\n\u001b[0;32m     <a href='vscode-notebook-cell:/f%3A/PlanningOptimization/PlanningOptimization/RosteringProblem_best-first_search.ipynb#ch0000011?line=24'>25</a>\u001b[0m \u001b[39melse\u001b[39;00m :\n\u001b[0;32m     <a href='vscode-notebook-cell:/f%3A/PlanningOptimization/PlanningOptimization/RosteringProblem_best-first_search.ipynb#ch0000011?line=25'>26</a>\u001b[0m     \u001b[39mif\u001b[39;00m check(k) \u001b[39m==\u001b[39m \u001b[39mTrue\u001b[39;00m :\n\u001b[1;32m---> <a href='vscode-notebook-cell:/f%3A/PlanningOptimization/PlanningOptimization/RosteringProblem_best-first_search.ipynb#ch0000011?line=26'>27</a>\u001b[0m         Try_main(k\u001b[39m+\u001b[39;49m\u001b[39m1\u001b[39;49m)\n",
      "    \u001b[1;31m[... skipping similar frames: Try_main at line 27 (4 times)]\u001b[0m\n",
      "\u001b[1;32mf:\\PlanningOptimization\\PlanningOptimization\\RosteringProblem_best-first_search.ipynb Cell 12'\u001b[0m in \u001b[0;36mTry_main\u001b[1;34m(k)\u001b[0m\n\u001b[0;32m     <a href='vscode-notebook-cell:/f%3A/PlanningOptimization/PlanningOptimization/RosteringProblem_best-first_search.ipynb#ch0000011?line=24'>25</a>\u001b[0m \u001b[39melse\u001b[39;00m :\n\u001b[0;32m     <a href='vscode-notebook-cell:/f%3A/PlanningOptimization/PlanningOptimization/RosteringProblem_best-first_search.ipynb#ch0000011?line=25'>26</a>\u001b[0m     \u001b[39mif\u001b[39;00m check(k) \u001b[39m==\u001b[39m \u001b[39mTrue\u001b[39;00m :\n\u001b[1;32m---> <a href='vscode-notebook-cell:/f%3A/PlanningOptimization/PlanningOptimization/RosteringProblem_best-first_search.ipynb#ch0000011?line=26'>27</a>\u001b[0m         Try_main(k\u001b[39m+\u001b[39;49m\u001b[39m1\u001b[39;49m)\n",
      "\u001b[1;32mf:\\PlanningOptimization\\PlanningOptimization\\RosteringProblem_best-first_search.ipynb Cell 12'\u001b[0m in \u001b[0;36mTry_main\u001b[1;34m(k)\u001b[0m\n\u001b[0;32m     <a href='vscode-notebook-cell:/f%3A/PlanningOptimization/PlanningOptimization/RosteringProblem_best-first_search.ipynb#ch0000011?line=11'>12</a>\u001b[0m up_to_now(k\u001b[39m-\u001b[39m\u001b[39m1\u001b[39m)\n\u001b[0;32m     <a href='vscode-notebook-cell:/f%3A/PlanningOptimization/PlanningOptimization/RosteringProblem_best-first_search.ipynb#ch0000011?line=12'>13</a>\u001b[0m all_combination \u001b[39m=\u001b[39m generate_candidate (all_candidate)\n\u001b[1;32m---> <a href='vscode-notebook-cell:/f%3A/PlanningOptimization/PlanningOptimization/RosteringProblem_best-first_search.ipynb#ch0000011?line=13'>14</a>\u001b[0m all_combination\u001b[39m.\u001b[39;49msort(key\u001b[39m=\u001b[39;49mheuristic, reverse\u001b[39m=\u001b[39;49m\u001b[39mFalse\u001b[39;49;00m)\n\u001b[0;32m     <a href='vscode-notebook-cell:/f%3A/PlanningOptimization/PlanningOptimization/RosteringProblem_best-first_search.ipynb#ch0000011?line=14'>15</a>\u001b[0m \u001b[39mfor\u001b[39;00m combination \u001b[39min\u001b[39;00m all_combination :\n\u001b[0;32m     <a href='vscode-notebook-cell:/f%3A/PlanningOptimization/PlanningOptimization/RosteringProblem_best-first_search.ipynb#ch0000011?line=15'>16</a>\u001b[0m     \u001b[39mfor\u001b[39;00m i \u001b[39min\u001b[39;00m \u001b[39mrange\u001b[39m(a) :\n",
      "\u001b[1;32mf:\\PlanningOptimization\\PlanningOptimization\\RosteringProblem_best-first_search.ipynb Cell 10'\u001b[0m in \u001b[0;36mheuristic\u001b[1;34m(candidate)\u001b[0m\n\u001b[0;32m      <a href='vscode-notebook-cell:/f%3A/PlanningOptimization/PlanningOptimization/RosteringProblem_best-first_search.ipynb#ch0000009?line=5'>6</a>\u001b[0m \u001b[39m# return max(num_night_to_now_tmp) - min(num_night_to_now_tmp)\u001b[39;00m\n\u001b[0;32m      <a href='vscode-notebook-cell:/f%3A/PlanningOptimization/PlanningOptimization/RosteringProblem_best-first_search.ipynb#ch0000009?line=6'>7</a>\u001b[0m num_night_to_now_tmp \u001b[39m=\u001b[39m np\u001b[39m.\u001b[39marray(num_night_to_now_tmp)\n\u001b[1;32m----> <a href='vscode-notebook-cell:/f%3A/PlanningOptimization/PlanningOptimization/RosteringProblem_best-first_search.ipynb#ch0000009?line=7'>8</a>\u001b[0m \u001b[39mreturn\u001b[39;00m np\u001b[39m.\u001b[39;49mstd(num_night_to_now_tmp)\n",
      "File \u001b[1;32m<__array_function__ internals>:5\u001b[0m, in \u001b[0;36mstd\u001b[1;34m(*args, **kwargs)\u001b[0m\n",
      "File \u001b[1;32m~\\AppData\\Local\\Packages\\PythonSoftwareFoundation.Python.3.10_qbz5n2kfra8p0\\LocalCache\\local-packages\\Python310\\site-packages\\numpy\\core\\fromnumeric.py:3581\u001b[0m, in \u001b[0;36mstd\u001b[1;34m(a, axis, dtype, out, ddof, keepdims, where)\u001b[0m\n\u001b[0;32m   3578\u001b[0m     \u001b[39melse\u001b[39;00m:\n\u001b[0;32m   3579\u001b[0m         \u001b[39mreturn\u001b[39;00m std(axis\u001b[39m=\u001b[39maxis, dtype\u001b[39m=\u001b[39mdtype, out\u001b[39m=\u001b[39mout, ddof\u001b[39m=\u001b[39mddof, \u001b[39m*\u001b[39m\u001b[39m*\u001b[39mkwargs)\n\u001b[1;32m-> 3581\u001b[0m \u001b[39mreturn\u001b[39;00m _methods\u001b[39m.\u001b[39m_std(a, axis\u001b[39m=\u001b[39maxis, dtype\u001b[39m=\u001b[39mdtype, out\u001b[39m=\u001b[39mout, ddof\u001b[39m=\u001b[39mddof,\n\u001b[0;32m   3582\u001b[0m                      \u001b[39m*\u001b[39m\u001b[39m*\u001b[39mkwargs)\n",
      "File \u001b[1;32m~\\AppData\\Local\\Packages\\PythonSoftwareFoundation.Python.3.10_qbz5n2kfra8p0\\LocalCache\\local-packages\\Python310\\site-packages\\numpy\\core\\_methods.py:262\u001b[0m, in \u001b[0;36m_std\u001b[1;34m(a, axis, dtype, out, ddof, keepdims, where)\u001b[0m\n\u001b[0;32m    260\u001b[0m \u001b[39mdef\u001b[39;00m \u001b[39m_std\u001b[39m(a, axis\u001b[39m=\u001b[39m\u001b[39mNone\u001b[39;00m, dtype\u001b[39m=\u001b[39m\u001b[39mNone\u001b[39;00m, out\u001b[39m=\u001b[39m\u001b[39mNone\u001b[39;00m, ddof\u001b[39m=\u001b[39m\u001b[39m0\u001b[39m, keepdims\u001b[39m=\u001b[39m\u001b[39mFalse\u001b[39;00m, \u001b[39m*\u001b[39m,\n\u001b[0;32m    261\u001b[0m          where\u001b[39m=\u001b[39m\u001b[39mTrue\u001b[39;00m):\n\u001b[1;32m--> 262\u001b[0m     ret \u001b[39m=\u001b[39m _var(a, axis\u001b[39m=\u001b[39;49maxis, dtype\u001b[39m=\u001b[39;49mdtype, out\u001b[39m=\u001b[39;49mout, ddof\u001b[39m=\u001b[39;49mddof,\n\u001b[0;32m    263\u001b[0m                keepdims\u001b[39m=\u001b[39;49mkeepdims, where\u001b[39m=\u001b[39;49mwhere)\n\u001b[0;32m    265\u001b[0m     \u001b[39mif\u001b[39;00m \u001b[39misinstance\u001b[39m(ret, mu\u001b[39m.\u001b[39mndarray):\n\u001b[0;32m    266\u001b[0m         ret \u001b[39m=\u001b[39m um\u001b[39m.\u001b[39msqrt(ret, out\u001b[39m=\u001b[39mret)\n",
      "File \u001b[1;32m~\\AppData\\Local\\Packages\\PythonSoftwareFoundation.Python.3.10_qbz5n2kfra8p0\\LocalCache\\local-packages\\Python310\\site-packages\\numpy\\core\\_methods.py:230\u001b[0m, in \u001b[0;36m_var\u001b[1;34m(a, axis, dtype, out, ddof, keepdims, where)\u001b[0m\n\u001b[0;32m    225\u001b[0m     arrmean \u001b[39m=\u001b[39m arrmean\u001b[39m.\u001b[39mdtype\u001b[39m.\u001b[39mtype(arrmean \u001b[39m/\u001b[39m rcount)\n\u001b[0;32m    227\u001b[0m \u001b[39m# Compute sum of squared deviations from mean\u001b[39;00m\n\u001b[0;32m    228\u001b[0m \u001b[39m# Note that x may not be inexact and that we need it to be an array,\u001b[39;00m\n\u001b[0;32m    229\u001b[0m \u001b[39m# not a scalar.\u001b[39;00m\n\u001b[1;32m--> 230\u001b[0m x \u001b[39m=\u001b[39m asanyarray(arr \u001b[39m-\u001b[39;49m arrmean)\n\u001b[0;32m    232\u001b[0m \u001b[39mif\u001b[39;00m \u001b[39missubclass\u001b[39m(arr\u001b[39m.\u001b[39mdtype\u001b[39m.\u001b[39mtype, (nt\u001b[39m.\u001b[39mfloating, nt\u001b[39m.\u001b[39minteger)):\n\u001b[0;32m    233\u001b[0m     x \u001b[39m=\u001b[39m um\u001b[39m.\u001b[39mmultiply(x, x, out\u001b[39m=\u001b[39mx)\n",
      "\u001b[1;31mKeyboardInterrupt\u001b[0m: "
     ]
    }
   ],
   "source": [
    "Try_main(1)\n",
    "print(min_num_night)"
   ]
  }
 ],
 "metadata": {
  "kernelspec": {
   "display_name": "Python 3.10.5 64-bit (windows store)",
   "language": "python",
   "name": "python3"
  },
  "language_info": {
   "codemirror_mode": {
    "name": "ipython",
    "version": 3
   },
   "file_extension": ".py",
   "mimetype": "text/x-python",
   "name": "python",
   "nbconvert_exporter": "python",
   "pygments_lexer": "ipython3",
   "version": "3.10.5"
  },
  "orig_nbformat": 4,
  "vscode": {
   "interpreter": {
    "hash": "76d70db784540673ff8721e4afe8e7ac8816e4741037d0eed66b88ac9b617eab"
   }
  }
 },
 "nbformat": 4,
 "nbformat_minor": 2
}
