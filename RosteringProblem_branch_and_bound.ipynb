{
 "cells": [
  {
   "cell_type": "code",
   "execution_count": 1,
   "metadata": {},
   "outputs": [],
   "source": [
    "import numpy as np"
   ]
  },
  {
   "cell_type": "code",
   "execution_count": 2,
   "metadata": {},
   "outputs": [],
   "source": [
    "f = open(\"TestCase/15_20_3_6.txt\")\n",
    "fa = f.readlines()\n",
    "tmp = fa[0].split()\n",
    "N = int(tmp[0])\n",
    "D = int(tmp[1])\n",
    "a = int(tmp[2])\n",
    "b = int(tmp[3])\n",
    "day_off = np.zeros([N,D], dtype = int)\n",
    "for i in range(1,len(fa)) :\n",
    "    tmp = fa[i].split()\n",
    "    for j in range(len(tmp) - 1) :\n",
    "        m = int(tmp[j])\n",
    "        day_off[i-1,m-1] = 1"
   ]
  },
  {
   "cell_type": "code",
   "execution_count": 3,
   "metadata": {},
   "outputs": [],
   "source": [
    "def All_candidate (Schedule_yesterday , day_off) :\n",
    "    all_caldidate = []\n",
    "    for i in range(N) :\n",
    "        if Schedule_yesterday[i] < 4 and day_off[i] < 1 :\n",
    "            all_caldidate.append(i)\n",
    "    return all_caldidate\n"
   ]
  },
  {
   "cell_type": "code",
   "execution_count": 4,
   "metadata": {},
   "outputs": [],
   "source": [
    "def Try (k, sub_candidate_index, all_candidate, all_sub_candidate) :\n",
    "    size_sub = len(sub_candidate_index)\n",
    "    size_all = len(all_candidate)\n",
    "    for i in range(sub_candidate_index[k-1] + 1, size_all + size_sub - k ) :\n",
    "        sub_candidate_index[k] = i\n",
    "        if k == size_sub - 1 :\n",
    "            sub_candidate = []\n",
    "            for j in sub_candidate_index[1:size_sub] :\n",
    "                sub_candidate.append(all_candidate[j-1])\n",
    "            all_sub_candidate.append(sub_candidate)\n",
    "        else :\n",
    "            Try (k+1, sub_candidate_index, all_candidate, all_sub_candidate)\n",
    "            \n"
   ]
  },
  {
   "cell_type": "code",
   "execution_count": 5,
   "metadata": {},
   "outputs": [],
   "source": [
    "def generate_candidate (all_candidate) :\n",
    "    all_combination_4a = []\n",
    "    b = [0] * (4*a + 1)\n",
    "    Try (1, b, all_candidate, all_combination_4a)\n",
    "    all_combination = []\n",
    "    for each_combination_4a in all_combination_4a :\n",
    "        all_combination_a = []\n",
    "        c = [0] * (a+1)\n",
    "        Try (1, c, each_combination_4a, all_combination_a)\n",
    "        for each_combination_a in all_combination_a :\n",
    "            tmp = []\n",
    "            tmp += each_combination_a\n",
    "            tmp += [j for j in each_combination_4a if j not in each_combination_a]\n",
    "            all_combination.append(tmp)\n",
    "    return all_combination\n"
   ]
  },
  {
   "cell_type": "code",
   "execution_count": 6,
   "metadata": {},
   "outputs": [],
   "source": [
    "Schedule = np.zeros([N,D+1], dtype=int)\n",
    "num_night = [0]*N\n",
    "min_num_night = 1000000"
   ]
  },
  {
   "cell_type": "code",
   "execution_count": 7,
   "metadata": {},
   "outputs": [],
   "source": [
    "def update() :\n",
    "    global min_num_night\n",
    "    for i in range(N) :\n",
    "        num_night[i] = 0\n",
    "        for j in range(1,D+1) :\n",
    "            if Schedule[i,j] == 4 :\n",
    "                num_night[i] += 1\n",
    "    if min_num_night > max(num_night) :\n",
    "        min_num_night = max(num_night)\n",
    "        # print(Schedule)\n",
    "        # print(min_num_night)"
   ]
  },
  {
   "cell_type": "code",
   "execution_count": 8,
   "metadata": {},
   "outputs": [],
   "source": [
    "def check (k) :\n",
    "    global min_num_night\n",
    "    num_night_tmp = [0] *N\n",
    "    for i in range(N) :\n",
    "        for j in range(1,k+1) :\n",
    "            if Schedule[i,j] == 4 :\n",
    "                num_night_tmp[i] += 1\n",
    "    if max(num_night_tmp) >= min_num_night :\n",
    "        return False\n",
    "    else :\n",
    "        return True"
   ]
  },
  {
   "cell_type": "code",
   "execution_count": 9,
   "metadata": {},
   "outputs": [],
   "source": [
    "stop = False\n",
    "lower_bound = 0\n",
    "if (a*D) % N == 0 :\n",
    "    lower_bound = int(a*D/ N)\n",
    "else :\n",
    "    lower_bound = int((a*D)/N) + 1"
   ]
  },
  {
   "cell_type": "code",
   "execution_count": 10,
   "metadata": {},
   "outputs": [],
   "source": [
    "def Try_main (k) :\n",
    "    global stop\n",
    "    global lower_bound\n",
    "    if stop == True :\n",
    "        return\n",
    "    for i in range(N) :\n",
    "        Schedule[i,k] = 0\n",
    "    all_candidate = All_candidate(list(Schedule[:,k-1]), list(day_off[:,k-1])) \n",
    "    if len(all_candidate) < 4*a :\n",
    "        return \n",
    "    all_combination = generate_candidate (all_candidate)\n",
    "    for combination in all_combination :\n",
    "        for i in range(a) :\n",
    "            Schedule[combination[i], k] = 4\n",
    "        for i in range(a,4*a) :\n",
    "            Schedule[combination[i], k] = 1\n",
    "        if k == D :\n",
    "            update()\n",
    "            if min_num_night == lower_bound :\n",
    "                stop = True\n",
    "                return\n",
    "        else :\n",
    "            if check(k) == True :\n",
    "                Try_main(k+1)"
   ]
  },
  {
   "cell_type": "code",
   "execution_count": 11,
   "metadata": {},
   "outputs": [
    {
     "name": "stdout",
     "output_type": "stream",
     "text": [
      "4\n"
     ]
    }
   ],
   "source": [
    "print(lower_bound)"
   ]
  },
  {
   "cell_type": "code",
   "execution_count": null,
   "metadata": {},
   "outputs": [],
   "source": [
    "Try_main(1)\n",
    "print(min_num_night)"
   ]
  }
 ],
 "metadata": {
  "kernelspec": {
   "display_name": "Python 3.10.5 64-bit (windows store)",
   "language": "python",
   "name": "python3"
  },
  "language_info": {
   "codemirror_mode": {
    "name": "ipython",
    "version": 3
   },
   "file_extension": ".py",
   "mimetype": "text/x-python",
   "name": "python",
   "nbconvert_exporter": "python",
   "pygments_lexer": "ipython3",
   "version": "3.10.5"
  },
  "orig_nbformat": 4,
  "vscode": {
   "interpreter": {
    "hash": "76d70db784540673ff8721e4afe8e7ac8816e4741037d0eed66b88ac9b617eab"
   }
  }
 },
 "nbformat": 4,
 "nbformat_minor": 2
}
